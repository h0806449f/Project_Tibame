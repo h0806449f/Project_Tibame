{
 "cells": [
  {
   "cell_type": "code",
   "execution_count": null,
   "metadata": {},
   "outputs": [],
   "source": [
    "# pytube github (https://github.com/pytube/pytube)\n",
    "# 需先安裝函示庫 pytube\n",
    "# pip install pytube"
   ]
  },
  {
   "cell_type": "code",
   "execution_count": 1,
   "metadata": {},
   "outputs": [],
   "source": [
    "# import\n",
    "from pytube import YouTube\n",
    "import pandas as pd\n",
    "import numpy as np\n",
    "import cv2\n",
    "import matplotlib.pyplot as plt"
   ]
  },
  {
   "cell_type": "code",
   "execution_count": 19,
   "metadata": {},
   "outputs": [
    {
     "ename": "IncompleteRead",
     "evalue": "IncompleteRead(8576071 bytes read, 861113 more expected)",
     "output_type": "error",
     "traceback": [
      "\u001b[1;31m---------------------------------------------------------------------------\u001b[0m",
      "\u001b[1;31mIncompleteRead\u001b[0m                            Traceback (most recent call last)",
      "Cell \u001b[1;32mIn[19], line 6\u001b[0m\n\u001b[0;32m      3\u001b[0m yt \u001b[39m=\u001b[39m YouTube(\u001b[39m\"\u001b[39m\u001b[39mhttps://www.youtube.com/watch?v=iTA4M3Advcg\u001b[39m\u001b[39m\"\u001b[39m)\n\u001b[0;32m      4\u001b[0m \u001b[39m# 需更換網址\u001b[39;00m\n\u001b[1;32m----> 6\u001b[0m yt\u001b[39m.\u001b[39;49mstreams\u001b[39m.\u001b[39;49mfilter()\u001b[39m.\u001b[39;49mget_highest_resolution()\u001b[39m.\u001b[39;49mdownload(filename\u001b[39m=\u001b[39;49m\u001b[39m\"\u001b[39;49m\u001b[39mkronii_0.mp4\u001b[39;49m\u001b[39m\"\u001b[39;49m)\n\u001b[0;32m      7\u001b[0m \u001b[39m# 時間取決於影片畫質&長度         (通常會下載到1080P, filename 自己定義影片的名稱)\u001b[39;00m\n\u001b[0;32m      8\u001b[0m \n\u001b[0;32m      9\u001b[0m \u001b[39m# yt.streams.filter().get_by_resolution('720p').download(filename='')\u001b[39;00m\n\u001b[0;32m     10\u001b[0m \u001b[39m# # 如檔案太大，可以下載720p就好    (需要跟AI同學商量圖片大小)\u001b[39;00m\n",
      "File \u001b[1;32mc:\\Users\\李重誼\\AppData\\Local\\Programs\\Python\\Python311\\Lib\\site-packages\\pytube\\streams.py:314\u001b[0m, in \u001b[0;36mStream.download\u001b[1;34m(self, output_path, filename, filename_prefix, skip_existing, timeout, max_retries)\u001b[0m\n\u001b[0;32m    312\u001b[0m \u001b[39mwith\u001b[39;00m \u001b[39mopen\u001b[39m(file_path, \u001b[39m\"\u001b[39m\u001b[39mwb\u001b[39m\u001b[39m\"\u001b[39m) \u001b[39mas\u001b[39;00m fh:\n\u001b[0;32m    313\u001b[0m     \u001b[39mtry\u001b[39;00m:\n\u001b[1;32m--> 314\u001b[0m         \u001b[39mfor\u001b[39;00m chunk \u001b[39min\u001b[39;00m request\u001b[39m.\u001b[39mstream(\n\u001b[0;32m    315\u001b[0m             \u001b[39mself\u001b[39m\u001b[39m.\u001b[39murl,\n\u001b[0;32m    316\u001b[0m             timeout\u001b[39m=\u001b[39mtimeout,\n\u001b[0;32m    317\u001b[0m             max_retries\u001b[39m=\u001b[39mmax_retries\n\u001b[0;32m    318\u001b[0m         ):\n\u001b[0;32m    319\u001b[0m             \u001b[39m# reduce the (bytes) remainder by the length of the chunk.\u001b[39;00m\n\u001b[0;32m    320\u001b[0m             bytes_remaining \u001b[39m-\u001b[39m\u001b[39m=\u001b[39m \u001b[39mlen\u001b[39m(chunk)\n\u001b[0;32m    321\u001b[0m             \u001b[39m# send to the on_progress callback.\u001b[39;00m\n",
      "File \u001b[1;32mc:\\Users\\李重誼\\AppData\\Local\\Programs\\Python\\Python311\\Lib\\site-packages\\pytube\\request.py:185\u001b[0m, in \u001b[0;36mstream\u001b[1;34m(url, timeout, max_retries)\u001b[0m\n\u001b[0;32m    183\u001b[0m         logger\u001b[39m.\u001b[39merror(e)\n\u001b[0;32m    184\u001b[0m \u001b[39mwhile\u001b[39;00m \u001b[39mTrue\u001b[39;00m:\n\u001b[1;32m--> 185\u001b[0m     chunk \u001b[39m=\u001b[39m response\u001b[39m.\u001b[39;49mread()\n\u001b[0;32m    186\u001b[0m     \u001b[39mif\u001b[39;00m \u001b[39mnot\u001b[39;00m chunk:\n\u001b[0;32m    187\u001b[0m         \u001b[39mbreak\u001b[39;00m\n",
      "File \u001b[1;32mc:\\Users\\李重誼\\AppData\\Local\\Programs\\Python\\Python311\\Lib\\http\\client.py:481\u001b[0m, in \u001b[0;36mHTTPResponse.read\u001b[1;34m(self, amt)\u001b[0m\n\u001b[0;32m    479\u001b[0m \u001b[39melse\u001b[39;00m:\n\u001b[0;32m    480\u001b[0m     \u001b[39mtry\u001b[39;00m:\n\u001b[1;32m--> 481\u001b[0m         s \u001b[39m=\u001b[39m \u001b[39mself\u001b[39;49m\u001b[39m.\u001b[39;49m_safe_read(\u001b[39mself\u001b[39;49m\u001b[39m.\u001b[39;49mlength)\n\u001b[0;32m    482\u001b[0m     \u001b[39mexcept\u001b[39;00m IncompleteRead:\n\u001b[0;32m    483\u001b[0m         \u001b[39mself\u001b[39m\u001b[39m.\u001b[39m_close_conn()\n",
      "File \u001b[1;32mc:\\Users\\李重誼\\AppData\\Local\\Programs\\Python\\Python311\\Lib\\http\\client.py:632\u001b[0m, in \u001b[0;36mHTTPResponse._safe_read\u001b[1;34m(self, amt)\u001b[0m\n\u001b[0;32m    630\u001b[0m data \u001b[39m=\u001b[39m \u001b[39mself\u001b[39m\u001b[39m.\u001b[39mfp\u001b[39m.\u001b[39mread(amt)\n\u001b[0;32m    631\u001b[0m \u001b[39mif\u001b[39;00m \u001b[39mlen\u001b[39m(data) \u001b[39m<\u001b[39m amt:\n\u001b[1;32m--> 632\u001b[0m     \u001b[39mraise\u001b[39;00m IncompleteRead(data, amt\u001b[39m-\u001b[39m\u001b[39mlen\u001b[39m(data))\n\u001b[0;32m    633\u001b[0m \u001b[39mreturn\u001b[39;00m data\n",
      "\u001b[1;31mIncompleteRead\u001b[0m: IncompleteRead(8576071 bytes read, 861113 more expected)"
     ]
    }
   ],
   "source": [
    "# 下載影片\n",
    "\n",
    "yt = YouTube(\"https://www.youtube.com/watch?v=iTA4M3Advcg\")\n",
    "# 需更換網址\n",
    "\n",
    "yt.streams.filter().get_highest_resolution().download(filename=\"kronii_0.mp4\")\n",
    "# 時間取決於影片畫質&長度         (通常會下載到1080P, filename 自己定義影片的名稱)\n",
    "\n",
    "# yt.streams.filter().get_by_resolution('720p').download(filename='')\n",
    "# # 如檔案太大，可以下載720p就好    (需要跟AI同學商量圖片大小)"
   ]
  },
  {
   "cell_type": "code",
   "execution_count": null,
   "metadata": {},
   "outputs": [],
   "source": [
    "# # 在IDE上撥放影片\n",
    "\n",
    "# import IPython.display as ipd\n",
    "# ipd.Video(\"First_time_dl.mp4\")"
   ]
  },
  {
   "cell_type": "code",
   "execution_count": 20,
   "metadata": {},
   "outputs": [],
   "source": [
    "# 載入影片\n",
    "\n",
    "imgs = cv2.VideoCapture(\"kronii_0.mp4\")"
   ]
  },
  {
   "cell_type": "code",
   "execution_count": 21,
   "metadata": {},
   "outputs": [
    {
     "data": {
      "text/plain": [
       "295837.0"
      ]
     },
     "execution_count": 21,
     "metadata": {},
     "output_type": "execute_result"
    }
   ],
   "source": [
    "# 檢查影片一共有幾幀\n",
    "\n",
    "imgs.get(cv2.CAP_PROP_FRAME_COUNT)"
   ]
  },
  {
   "cell_type": "code",
   "execution_count": 22,
   "metadata": {},
   "outputs": [
    {
     "name": "stdout",
     "output_type": "stream",
     "text": [
      "圖片寬:1280.0,高:720.0\n"
     ]
    }
   ],
   "source": [
    "# 檢查每幀寬高\n",
    "\n",
    "height = imgs.get(cv2.CAP_PROP_FRAME_HEIGHT)\n",
    "width = imgs.get(cv2.CAP_PROP_FRAME_WIDTH)\n",
    "print(f\"圖片寬:{width},高:{height}\")"
   ]
  },
  {
   "cell_type": "code",
   "execution_count": 6,
   "metadata": {},
   "outputs": [
    {
     "data": {
      "text/plain": [
       "30.0"
      ]
     },
     "execution_count": 6,
     "metadata": {},
     "output_type": "execute_result"
    }
   ],
   "source": [
    "# 檢查影片FPS\n",
    "\n",
    "imgs.get(cv2.CAP_PROP_FPS)"
   ]
  },
  {
   "cell_type": "code",
   "execution_count": 7,
   "metadata": {},
   "outputs": [
    {
     "name": "stdout",
     "output_type": "stream",
     "text": [
      "是否捕捉到圖片: True\n"
     ]
    }
   ],
   "source": [
    "# 檢查圖片\n",
    "\n",
    "ret, img = imgs.read()\n",
    "print(f\"是否捕捉到圖片: {ret}\")\n",
    "# print(f\"圖片資訊\\n{img}\")"
   ]
  },
  {
   "cell_type": "code",
   "execution_count": 23,
   "metadata": {},
   "outputs": [
    {
     "ename": "error",
     "evalue": "OpenCV(4.7.0) D:\\a\\opencv-python\\opencv-python\\opencv\\modules\\imgproc\\src\\color.cpp:182: error: (-215:Assertion failed) !_src.empty() in function 'cv::cvtColor'\n",
     "output_type": "error",
     "traceback": [
      "\u001b[1;31m---------------------------------------------------------------------------\u001b[0m",
      "\u001b[1;31merror\u001b[0m                                     Traceback (most recent call last)",
      "Cell \u001b[1;32mIn[23], line 12\u001b[0m\n\u001b[0;32m      7\u001b[0m     ax\u001b[39m.\u001b[39maxis(\u001b[39m\"\u001b[39m\u001b[39moff\u001b[39m\u001b[39m\"\u001b[39m)\n\u001b[0;32m      9\u001b[0m \u001b[39m# plt.imshow(img)\u001b[39;00m\n\u001b[0;32m     10\u001b[0m \u001b[39m# matplot 讀取圖片的color channel 與 cv2 不同，所以利用上方function 轉變color channel\u001b[39;00m\n\u001b[1;32m---> 12\u001b[0m display_cv2_img(img)\n",
      "Cell \u001b[1;32mIn[23], line 4\u001b[0m, in \u001b[0;36mdisplay_cv2_img\u001b[1;34m(img, figsize)\u001b[0m\n\u001b[0;32m      3\u001b[0m \u001b[39mdef\u001b[39;00m \u001b[39mdisplay_cv2_img\u001b[39m(img, figsize\u001b[39m=\u001b[39m(\u001b[39m10\u001b[39m,\u001b[39m10\u001b[39m)):\n\u001b[1;32m----> 4\u001b[0m     img_ \u001b[39m=\u001b[39m cv2\u001b[39m.\u001b[39;49mcvtColor(img, cv2\u001b[39m.\u001b[39;49mCOLOR_BGR2RGB)\n\u001b[0;32m      5\u001b[0m     fig, ax \u001b[39m=\u001b[39m plt\u001b[39m.\u001b[39msubplots(figsize\u001b[39m=\u001b[39mfigsize)\n\u001b[0;32m      6\u001b[0m     ax\u001b[39m.\u001b[39mimshow(img_)\n",
      "\u001b[1;31merror\u001b[0m: OpenCV(4.7.0) D:\\a\\opencv-python\\opencv-python\\opencv\\modules\\imgproc\\src\\color.cpp:182: error: (-215:Assertion failed) !_src.empty() in function 'cv::cvtColor'\n"
     ]
    }
   ],
   "source": [
    "# 檢查是否讀取到影片每一幀圖片\n",
    "\n",
    "def display_cv2_img(img, figsize=(10,10)):\n",
    "    img_ = cv2.cvtColor(img, cv2.COLOR_BGR2RGB)\n",
    "    fig, ax = plt.subplots(figsize=figsize)\n",
    "    ax.imshow(img_)\n",
    "    ax.axis(\"off\")\n",
    "\n",
    "# plt.imshow(img)\n",
    "# matplot 讀取圖片的color channel 與 cv2 不同，所以利用上方function 轉變color channel\n",
    "\n",
    "display_cv2_img(img)"
   ]
  },
  {
   "cell_type": "code",
   "execution_count": null,
   "metadata": {},
   "outputs": [],
   "source": [
    "# # 每4000幀 顯示一次 (顯示 4000, 8000, 12000 ....)   用於大致檢查Vtuber影片中有無大作動的位移\n",
    "# # 此cell 須執行較久時間\n",
    "\n",
    "# fig, axs = plt.subplots(4, 8, figsize=(30, 20))\n",
    "# axs = axs.flatten()\n",
    "\n",
    "# imgs = cv2.VideoCapture(\"First_time_dl.mp4\")\n",
    "# n_frames = int(imgs.get(cv2.CAP_PROP_FRAME_COUNT))\n",
    "\n",
    "# img_idx = 0\n",
    "# for frame in range(n_frames):\n",
    "#     ret, img = imgs.read()\n",
    "#     if ret == False:\n",
    "#         break\n",
    "#     if frame % 4000 == 0:\n",
    "#         axs[img_idx].imshow(cv2.cvtColor(img, cv2.COLOR_BGR2RGB))\n",
    "#         axs[img_idx].set_title(f\"count_of_frame: {frame}\")\n",
    "#         axs[img_idx].axis(\"off\")\n",
    "#         img_idx = img_idx + 1\n",
    "\n",
    "# plt.tight_layout()\n",
    "# plt.show()\n",
    "# imgs.release()"
   ]
  },
  {
   "cell_type": "code",
   "execution_count": 12,
   "metadata": {},
   "outputs": [],
   "source": [
    "# 會開一個視窗，檢視裁切區域是否符合大小\n",
    "\n",
    "# 指定裁切區域的x y 座標 \n",
    "x = 780  # 由左至右\n",
    "y = 220  # 由上到下\n",
    "\n",
    "# 檢查裁切大小是否適合\n",
    "w = 500\n",
    "h = 500\n",
    "\n",
    "img_capture = img[y:y+h, x:x+w]\n",
    "cv2.imshow(\"cutted\", img_capture)\n",
    "cv2.waitKey(0)\n",
    "cv2.destroyAllWindows()"
   ]
  },
  {
   "cell_type": "code",
   "execution_count": 25,
   "metadata": {},
   "outputs": [],
   "source": [
    "# for 迴圈開始裁切\n",
    "\n",
    "# 影片名稱須自己更改 \n",
    "imgs = cv2.VideoCapture(\"kronii_0.mp4\")\n",
    "n_frames = int(imgs.get(cv2.CAP_PROP_FRAME_COUNT))\n",
    "\n",
    "img_idx = 0\n",
    "# 檔案名稱的起始數字 如開始下載第二部影片 需要修改\n",
    "\n",
    "for frame in range(n_frames):\n",
    "    ret, img = imgs.read()\n",
    "    if ret == False:\n",
    "        break\n",
    "    # 每 幾 幀取一次\n",
    "    if frame % 100 == 0:\n",
    "\n",
    "        # 人物位置\n",
    "        x = 950\n",
    "        y = 380\n",
    "\n",
    "        # 寬 高 \n",
    "        w = 325\n",
    "        h = 325\n",
    "\n",
    "        img_capture = img[y:y+h, x:x+w]\n",
    "        cv2.imwrite(f\"taka_kiara_{img_idx}.jpg\", img_capture)\n",
    "\n",
    "        img_idx = img_idx + 1"
   ]
  },
  {
   "attachments": {},
   "cell_type": "markdown",
   "metadata": {},
   "source": [
    "重新命名資料夾中 所有jpg圖檔名稱"
   ]
  },
  {
   "cell_type": "code",
   "execution_count": 27,
   "metadata": {},
   "outputs": [],
   "source": [
    "import os\n",
    "import shutil\n",
    "\n",
    "\n",
    "input_dir = r\"D:\\Project_Tibame\\Code\"\n",
    "# 取決於圖片位置\n",
    "output_prename = \"kronii_\"\n",
    "# 要小心檔名不要重複 會直接取代\n",
    "\n",
    "count = 1964\n",
    "\n",
    "for filename in os.listdir(input_dir):\n",
    "    if filename.endswith(\".jpg\"):\n",
    "        new_filename = output_prename + str(count) + \".jpg\"\n",
    "\n",
    "        src_path = os.path.join(input_dir, filename)\n",
    "        dest_path = os.path.join(input_dir, new_filename)\n",
    "\n",
    "        shutil.move(src_path, dest_path)\n",
    "        count = count + 1"
   ]
  }
 ],
 "metadata": {
  "kernelspec": {
   "display_name": "Python 3",
   "language": "python",
   "name": "python3"
  },
  "language_info": {
   "codemirror_mode": {
    "name": "ipython",
    "version": 3
   },
   "file_extension": ".py",
   "mimetype": "text/x-python",
   "name": "python",
   "nbconvert_exporter": "python",
   "pygments_lexer": "ipython3",
   "version": "3.11.1"
  },
  "orig_nbformat": 4
 },
 "nbformat": 4,
 "nbformat_minor": 2
}
