{
 "cells": [
  {
   "cell_type": "code",
   "execution_count": null,
   "metadata": {},
   "outputs": [],
   "source": [
    "# pytube github (https://github.com/pytube/pytube)\n",
    "# 需先安裝函示庫 pytube\n",
    "# pip install pytube"
   ]
  },
  {
   "cell_type": "code",
   "execution_count": 1,
   "metadata": {},
   "outputs": [],
   "source": [
    "# import\n",
    "from pytube import YouTube\n",
    "import pandas as pd\n",
    "import numpy as np\n",
    "import cv2\n",
    "import matplotlib.pyplot as plt"
   ]
  },
  {
   "cell_type": "code",
   "execution_count": null,
   "metadata": {},
   "outputs": [],
   "source": [
    "# 下載影片\n",
    "\n",
    "yt = YouTube(\"https://www.youtube.com/watch?v=X_NbGmbqnIc&t=145s\")\n",
    "# 需更換網址\n",
    "\n",
    "yt.streams.filter().get_highest_resolution().download(filename=\"hololive_0.mp4\")\n",
    "# 時間取決於影片畫質&長度         (通常會下載到1080P, filename 自己定義影片的名稱)\n",
    "\n",
    "# yt.streams.filter().get_by_resolution('720p').download(filename='')\n",
    "# # 如檔案太大，可以下載720p就好    (需要跟AI同學商量圖片大小)"
   ]
  },
  {
   "cell_type": "code",
   "execution_count": null,
   "metadata": {},
   "outputs": [],
   "source": [
    "# # 在IDE上撥放影片\n",
    "\n",
    "# import IPython.display as ipd\n",
    "# ipd.Video(\"First_time_dl.mp4\")"
   ]
  },
  {
   "cell_type": "code",
   "execution_count": 2,
   "metadata": {},
   "outputs": [],
   "source": [
    "# 載入影片\n",
    "\n",
    "imgs = cv2.VideoCapture(\"hololive_test.mp4\")"
   ]
  },
  {
   "cell_type": "code",
   "execution_count": 3,
   "metadata": {},
   "outputs": [
    {
     "data": {
      "text/plain": [
       "25127.0"
      ]
     },
     "execution_count": 3,
     "metadata": {},
     "output_type": "execute_result"
    }
   ],
   "source": [
    "# 檢查影片一共有幾幀\n",
    "\n",
    "imgs.get(cv2.CAP_PROP_FRAME_COUNT)"
   ]
  },
  {
   "cell_type": "code",
   "execution_count": 4,
   "metadata": {},
   "outputs": [
    {
     "name": "stdout",
     "output_type": "stream",
     "text": [
      "圖片寬:1920.0,高:1080.0\n"
     ]
    }
   ],
   "source": [
    "# 檢查每幀寬高\n",
    "\n",
    "height = imgs.get(cv2.CAP_PROP_FRAME_HEIGHT)\n",
    "width = imgs.get(cv2.CAP_PROP_FRAME_WIDTH)\n",
    "print(f\"圖片寬:{width},高:{height}\")"
   ]
  },
  {
   "cell_type": "code",
   "execution_count": 5,
   "metadata": {},
   "outputs": [
    {
     "data": {
      "text/plain": [
       "29.827672327672328"
      ]
     },
     "execution_count": 5,
     "metadata": {},
     "output_type": "execute_result"
    }
   ],
   "source": [
    "# 檢查影片FPS\n",
    "\n",
    "imgs.get(cv2.CAP_PROP_FPS)"
   ]
  },
  {
   "cell_type": "code",
   "execution_count": 7,
   "metadata": {},
   "outputs": [
    {
     "name": "stdout",
     "output_type": "stream",
     "text": [
      "是否捕捉到圖片: True\n"
     ]
    }
   ],
   "source": [
    "# 檢查圖片\n",
    "\n",
    "ret, img = imgs.read()\n",
    "print(f\"是否捕捉到圖片: {ret}\")\n",
    "# print(f\"圖片資訊\\n{img}\")"
   ]
  },
  {
   "cell_type": "code",
   "execution_count": 8,
   "metadata": {},
   "outputs": [
    {
     "data": {
      "image/png": "[encoded data removed]",
      "text/plain": [
       "<Figure size 1000x1000 with 1 Axes>"
      ]
     },
     "metadata": {},
     "output_type": "display_data"
    }
   ],
   "source": [
    "# 檢查是否讀取到影片每一幀圖片\n",
    "\n",
    "def display_cv2_img(img, figsize=(10,10)):\n",
    "    img_ = cv2.cvtColor(img, cv2.COLOR_BGR2RGB)\n",
    "    fig, ax = plt.subplots(figsize=figsize)\n",
    "    ax.imshow(img_)\n",
    "    ax.axis(\"off\")\n",
    "\n",
    "# plt.imshow(img)\n",
    "# matplot 讀取圖片的color channel 與 cv2 不同，所以利用上方function 轉變color channel\n",
    "\n",
    "display_cv2_img(img)"
   ]
  },
  {
   "cell_type": "code",
   "execution_count": null,
   "metadata": {},
   "outputs": [],
   "source": [
    "# # 每4000幀 顯示一次 (顯示 4000, 8000, 12000 ....)   用於大致檢查Vtuber影片中有無大作動的位移\n",
    "# # 此cell 須執行較久時間\n",
    "\n",
    "# fig, axs = plt.subplots(4, 8, figsize=(30, 20))\n",
    "# axs = axs.flatten()\n",
    "\n",
    "# imgs = cv2.VideoCapture(\"First_time_dl.mp4\")\n",
    "# n_frames = int(imgs.get(cv2.CAP_PROP_FRAME_COUNT))\n",
    "\n",
    "# img_idx = 0\n",
    "# for frame in range(n_frames):\n",
    "#     ret, img = imgs.read()\n",
    "#     if ret == False:\n",
    "#         break\n",
    "#     if frame % 4000 == 0:\n",
    "#         axs[img_idx].imshow(cv2.cvtColor(img, cv2.COLOR_BGR2RGB))\n",
    "#         axs[img_idx].set_title(f\"count_of_frame: {frame}\")\n",
    "#         axs[img_idx].axis(\"off\")\n",
    "#         img_idx = img_idx + 1\n",
    "\n",
    "# plt.tight_layout()\n",
    "# plt.show()\n",
    "# imgs.release()"
   ]
  },
  {
   "cell_type": "code",
   "execution_count": 12,
   "metadata": {},
   "outputs": [],
   "source": [
    "# 會開一個視窗，檢視裁切區域是否符合大小\n",
    "\n",
    "# 指定裁切區域的x y 座標 \n",
    "x = 780  # 由左至右\n",
    "y = 220  # 由上到下\n",
    "\n",
    "# 檢查裁切大小是否適合\n",
    "w = 500\n",
    "h = 500\n",
    "\n",
    "img_capture = img[y:y+h, x:x+w]\n",
    "cv2.imshow(\"cutted\", img_capture)\n",
    "cv2.waitKey(0)\n",
    "cv2.destroyAllWindows()"
   ]
  },
  {
   "cell_type": "code",
   "execution_count": null,
   "metadata": {},
   "outputs": [],
   "source": [
    "# for 迴圈開始裁切\n",
    "\n",
    "# 影片名稱須自己更改 \n",
    "imgs = cv2.VideoCapture(\"hololive_test.mp4\")\n",
    "n_frames = int(imgs.get(cv2.CAP_PROP_FRAME_COUNT))\n",
    "\n",
    "img_idx = 0\n",
    "# 檔案名稱的起始數字 如開始下載第二部影片 需要修改\n",
    "\n",
    "for frame in range(n_frames):\n",
    "    ret, img = imgs.read()\n",
    "    if ret == False:\n",
    "        break\n",
    "    # 每 幾 幀取一次\n",
    "    if frame % 1 == 0:\n",
    "\n",
    "        # 人物位置\n",
    "        x = 0\n",
    "        y = 0\n",
    "\n",
    "        # 寬 高 \n",
    "        w = 1920\n",
    "        h = 1080\n",
    "\n",
    "        img_capture = img[y:y+h, x:x+w]\n",
    "        cv2.imwrite(f\"hololive_{img_idx}.jpg\", img_capture)\n",
    "\n",
    "        img_idx = img_idx + 1"
   ]
  },
  {
   "attachments": {},
   "cell_type": "markdown",
   "metadata": {},
   "source": [
    "重新命名資料夾中 所有jpg圖檔名稱"
   ]
  },
  {
   "cell_type": "code",
   "execution_count": 6,
   "metadata": {},
   "outputs": [],
   "source": [
    "import os\n",
    "import shutil\n",
    "\n",
    "\n",
    "input_dir = r\"D:\\Project_Tibame\\Code\\kronii_version4\"\n",
    "# 取決於圖片位置\n",
    "output_prename = \"Ouro Kronii_\"\n",
    "# 要小心檔名不要重複 會直接取代\n",
    "\n",
    "count = 0\n",
    "\n",
    "for filename in os.listdir(input_dir):\n",
    "    if filename.endswith(\".jpg\") or filename.endswith(\".png\"):\n",
    "        new_filename = output_prename + str(count) + \".jpg\"\n",
    "\n",
    "        src_path = os.path.join(input_dir, filename)\n",
    "        dest_path = os.path.join(input_dir, new_filename)\n",
    "\n",
    "        shutil.move(src_path, dest_path)\n",
    "        count = count + 1"
   ]
  }
 ],
 "metadata": {
  "kernelspec": {
   "display_name": "Python 3",
   "language": "python",
   "name": "python3"
  },
  "language_info": {
   "codemirror_mode": {
    "name": "ipython",
    "version": 3
   },
   "file_extension": ".py",
   "mimetype": "text/x-python",
   "name": "python",
   "nbconvert_exporter": "python",
   "pygments_lexer": "ipython3",
   "version": "3.11.1"
  },
  "orig_nbformat": 4
 },
 "nbformat": 4,
 "nbformat_minor": 2
}
